{
 "cells": [
  {
   "cell_type": "code",
   "execution_count": null,
   "id": "ed7619c5",
   "metadata": {},
   "outputs": [],
   "source": [
    "import streamlit as st\n",
    "import numpy as np\n",
    "import tensorflow as tf\n",
    "import joblib  # if you're using a scaler like StandardScaler\n",
    "\n",
    "# Load trained model\n",
    "model = tf.keras.models.load_model('calorie_ann_model.keras')  # replace with your actual model path\n",
    "\n",
    "# Load scaler if used during training\n",
    "# scaler = joblib.load(\"scaler.pkl\")  # Uncomment if using scaler\n",
    "\n",
    "st.title(\"Calorie Burn Prediction App\")\n",
    "\n",
    "st.markdown(\"Enter your details below to predict the calories burned.\")\n",
    "\n",
    "# Input fields\n",
    "age = st.number_input(\"Age\", min_value=10, max_value=100, step=1)\n",
    "height = st.number_input(\"Height (in cm)\", min_value=100, max_value=250)\n",
    "weight = st.number_input(\"Weight (in kg)\", min_value=30, max_value=200)\n",
    "duration = st.number_input(\"Exercise Duration (in minutes)\", min_value=1, max_value=300)\n",
    "heart_rate = st.number_input(\"Heart Rate (bpm)\", min_value=30, max_value=220)\n",
    "body_temp = st.number_input(\"Body Temperature (°C)\", min_value=35.0, max_value=45.0)\n",
    "sex = st.selectbox(\"Sex\", options=[\"Male\", \"Female\"])\n",
    "\n",
    "# Encode Sex\n",
    "sex_male = 1 if sex == \"Male\" else 0\n",
    "\n",
    "# Button to make prediction\n",
    "if st.button(\"Predict Calories Burned\"):\n",
    "    input_data = np.array([[  duration, heart_rate, body_temp,heart_rate*duration]])\n",
    "    \n",
    "    # Optional: scale input data if you used a scaler during training\n",
    "    # input_data = scaler.transform(input_data)\n",
    "    \n",
    "    prediction = model.predict(input_data)\n",
    "    st.success(f\"Estimated Calories Burned: {prediction[0][0]:.2f} kcal\")\n"
   ]
  }
 ],
 "metadata": {
  "language_info": {
   "name": "python"
  }
 },
 "nbformat": 4,
 "nbformat_minor": 5
}
